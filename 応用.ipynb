{
 "cells": [
  {
   "cell_type": "code",
   "execution_count": null,
   "id": "274bf38e-4cbb-4deb-ac29-7cc800354699",
   "metadata": {},
   "outputs": [],
   "source": [
    "8. randn()は標準正規分布に従う乱数を生成する関数である　()内には生成する乱数の数が入る。以下のコーディングでは、標準正規分布に従う1000個の乱数をヒストグラムに描くものである。bins=の数はヒストグラムのビンの数である。このコーディングを参考に以下のコーデイングを書け。  \n",
    "    - for 文を使って、randn() で生成する乱数の数を1000から10000まで1000おきに増やし、その都度ヒストグラムを描け。\n",
    "    - なお、ヒストグラムのビン数は、繰り返しの都度、10から100まで増やすこと\n",
    "    - 繰り返しグラフ表示するには。plt.show() の代わりに、plt.pause(0.01)を使う\n"
   ]
  },
  {
   "cell_type": "code",
   "execution_count": null,
   "id": "aa6eeaba-9731-4090-97a5-dbb0726eb74b",
   "metadata": {},
   "outputs": [],
   "source": [
    "import numpy as np\n",
    "import matplotlib.pyplot as plt\n",
    "\n",
    "normal_sample = np.random.randn(100000)\n",
    "plt.hist(normal_sample, bins=50,color='blue')\n",
    "plt.show()\n",
    "plt.hist(normal_sample, bins=10000,color='blue')\n",
    "plt.show()"
   ]
  },
  {
   "cell_type": "code",
   "execution_count": null,
   "id": "699d1d82-8207-4361-bf12-ac244a3ad553",
   "metadata": {},
   "outputs": [],
   "source": [
    "for n in range(1000,11000,1000):\n",
    "    normal_sample = np.random.randn(n)\n",
    "    plt.hist(normal_sample, bins=int(n/100),color='blue')\n",
    "    plt.show()\n",
    "    "
   ]
  },
  {
   "cell_type": "code",
   "execution_count": null,
   "id": "4460bbd1-4d90-4538-971e-24c6d9782380",
   "metadata": {},
   "outputs": [],
   "source": [
    "9. randn()に1を加算すると、平均1の正規分布に従う乱数が得られる。そこで、for文を使って平均が0,1,2の正規乱数を生成して、それぞれ、blue, red,greenに色分けした\n",
    "ヒストグラムを描け（下のコーディングを完成せよ）"
   ]
  },
  {
   "cell_type": "code",
   "execution_count": null,
   "id": "e2b72483-2095-41e5-837d-497c8b8382b6",
   "metadata": {},
   "outputs": [],
   "source": [
    "import numpy as np\n",
    "import matplotlib.pyplot as plt\n",
    "\n",
    "normal_sample = np.random.randn(1000)+1\n",
    "plt.hist(normal_sample, bins=10,color='blue')\n",
    "plt.show()\n"
   ]
  },
  {
   "cell_type": "code",
   "execution_count": null,
   "id": "85b52ab1-cf89-4303-b1a0-2acfa0f0003f",
   "metadata": {},
   "outputs": [],
   "source": [
    "colors={0:'blue',1:'red',2:'green'}\n",
    "\n",
    "for i in range(3):\n",
    "    normal_sample = np.random.randn(1000)+i\n",
    "    plt.hist(normal_sample, bins=10,color=colors[i])\n",
    "plt.show()"
   ]
  },
  {
   "cell_type": "code",
   "execution_count": null,
   "id": "fbc3e156-6cb0-4774-a5c8-53b3d477a3d1",
   "metadata": {},
   "outputs": [],
   "source": [
    "10. 以下の2次元配列について、2重のfor文を用いて行毎の合計値を表示せよ\n"
   ]
  },
  {
   "cell_type": "code",
   "execution_count": null,
   "id": "cbe5c187-e12a-44c3-806d-ea744f76c2cf",
   "metadata": {},
   "outputs": [],
   "source": [
    "import numpy as np\n",
    "array2dim = np.arange(12).reshape(3,4)\n",
    "print(array2dim)\n",
    "for r in array2dim:\n",
    "    r_total=0\n",
    "    for n in r:\n",
    "        r_total+=n\n",
    "    print(r_total)"
   ]
  },
  {
   "cell_type": "code",
   "execution_count": null,
   "id": "c0ecbb6f-792a-4efe-8dbd-02ff7b7a26e4",
   "metadata": {},
   "outputs": [],
   "source": [
    "11. リスト内包表記を使ってsaitama_dicから人口の値を要素とするリストを作れ"
   ]
  },
  {
   "cell_type": "code",
   "execution_count": null,
   "id": "9abacd6d-a017-4ce4-b709-250b344e6652",
   "metadata": {},
   "outputs": [],
   "source": [
    "saitama_dic = {'埼玉県川越市':350745,'埼玉県熊谷市':198742,'埼玉県川口市':578112,'埼玉県行田市':82113,'埼玉県秩父市':24038}\n",
    "print([p for c,p in saitama_dic.items()])"
   ]
  },
  {
   "cell_type": "code",
   "execution_count": null,
   "id": "d0a0a493-ef10-417b-b47f-e608d3db3b9f",
   "metadata": {},
   "outputs": [],
   "source": [
    "12. vectorとmatrixの積をnp.dotを用いずにfor文と積(*)で計算して同じ結果になるようにコーディングせよ"
   ]
  },
  {
   "cell_type": "code",
   "execution_count": null,
   "id": "1486b512-d855-477f-b767-65068ae054db",
   "metadata": {},
   "outputs": [],
   "source": [
    "import numpy as np\n",
    "matrix=np.arange(12).reshape(4,3)\n",
    "vector=np.array([1,2,3,4])\n",
    "print(np.dot(vector,matrix))\n",
    "print(matrix)\n",
    "print(vector)\n",
    "print(matrix.shape)"
   ]
  },
  {
   "cell_type": "code",
   "execution_count": null,
   "id": "4974470e-cbda-4db7-b61f-83d47d647c81",
   "metadata": {},
   "outputs": [],
   "source": [
    "z=[]\n",
    "for vec in matrix.T:    \n",
    "    inner_prod=0\n",
    "    for v1,v2 in zip(vector,vec):\n",
    "        inner_prod+=v1*v2\n",
    "        \n",
    "    z.append(inner_prod)\n",
    "print(z)"
   ]
  }
 ],
 "metadata": {
  "kernelspec": {
   "display_name": "Python 3 (ipykernel)",
   "language": "python",
   "name": "python3"
  },
  "language_info": {
   "codemirror_mode": {
    "name": "ipython",
    "version": 3
   },
   "file_extension": ".py",
   "mimetype": "text/x-python",
   "name": "python",
   "nbconvert_exporter": "python",
   "pygments_lexer": "ipython3",
   "version": "3.11.7"
  }
 },
 "nbformat": 4,
 "nbformat_minor": 5
}
